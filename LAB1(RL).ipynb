{
  "nbformat": 4,
  "nbformat_minor": 0,
  "metadata": {
    "colab": {
      "provenance": [],
      "authorship_tag": "ABX9TyMMQpPq1dzUD8i996WMsDl5",
      "include_colab_link": true
    },
    "kernelspec": {
      "name": "python3",
      "display_name": "Python 3"
    },
    "language_info": {
      "name": "python"
    }
  },
  "cells": [
    {
      "cell_type": "markdown",
      "metadata": {
        "id": "view-in-github",
        "colab_type": "text"
      },
      "source": [
        "<a href=\"https://colab.research.google.com/github/KarabiMandal185/Reinforcement-Learning-/blob/main/LAB1(RL).ipynb\" target=\"_parent\"><img src=\"https://colab.research.google.com/assets/colab-badge.svg\" alt=\"Open In Colab\"/></a>"
      ]
    },
    {
      "cell_type": "code",
      "source": [
        "#Step 1: Define the MDP\n",
        "# P[state][action] = list of (probability, next_state, reward, done)\n",
        "P={\n",
        "  0: {\n",
        "     0: [(1.0, 0, 0, False)],\n",
        "     1: [(1.0, 1, 0, False)]\n",
        "},\n",
        "1: {\n",
        "   0: [(1.0, 0, 0, False)],\n",
        "   1: [(1.0, 2, 1, False)]\n",
        "},\n",
        "2: {\n",
        "   0: [(1.0, 1, 0, False)],\n",
        "   1: [(1.0, 3, 10, True)]  # Goal state\n",
        "},\n",
        "3: {\n",
        "   0: [(1.0, 3, 0, True)],\n",
        "   1: [(1.0, 3, 0, True)]\n",
        "}\n",
        "}\n",
        "n_states = 4\n",
        "n_actions = 2\n",
        "gamma = 0.9\n"
      ],
      "metadata": {
        "id": "crbZjUVg4yHs"
      },
      "execution_count": 10,
      "outputs": []
    },
    {
      "cell_type": "code",
      "source": [
        "#Step 2: Value Iteration\n",
        "import numpy as np # Import numpy for array creation\n",
        "\n",
        "def value_iteration(P, n_states, n_actions, gamma=0.9, theta=1e-6):\n",
        "  V = np.zeros(n_states)\n",
        "  while True:\n",
        "    delta = 0\n",
        "    for s in range(n_states):\n",
        "      v = V[s]\n",
        "      action_values = []\n",
        "      for a in range(n_actions):\n",
        "        q = 0\n",
        "        for prob, next_state, reward, done in P[s][a]:\n",
        "          q += prob * (reward + gamma * V[next_state] * (not done))\n",
        "        action_values.append(q)\n",
        "      V[s] = max(action_values)\n",
        "      delta = max(delta, abs(v - V[s]))\n",
        "    if delta < theta:\n",
        "      break\n",
        "\n",
        "  # Derive policy\n",
        "  policy = np.zeros(n_states, dtype=int)\n",
        "  for s in range(n_states):\n",
        "    action_values = []\n",
        "    for a in range(n_actions):\n",
        "      q = 0\n",
        "      for prob, next_state, reward, done in P[s][a]:\n",
        "        q += prob * (reward + gamma * V[next_state] * (not done))\n",
        "      action_values.append(q)\n",
        "    policy[s] = np.argmax(action_values)\n",
        "  return policy, V"
      ],
      "metadata": {
        "id": "dAAXXhGm4yEM"
      },
      "execution_count": 11,
      "outputs": []
    },
    {
      "cell_type": "code",
      "source": [
        "#Step 3: Policy Iteration\n",
        "def policy_iteration(P, n_states, n_actions, gamma=0.9):\n",
        "    policy = np.zeros(n_states, dtype=int)\n",
        "    V = np.zeros(n_states)\n",
        "    is_policy_stable = False\n",
        "\n",
        "    while not is_policy_stable:\n",
        "        # Policy Evaluation\n",
        "        while True:\n",
        "            delta = 0\n",
        "            for s in range(n_states):\n",
        "                v = V[s]\n",
        "                a = policy[s]\n",
        "                V[s] = sum(prob * (reward + gamma * V[next_state] * (not done))\n",
        "                           for prob, next_state, reward, done in P[s][a])\n",
        "                delta = max(delta, abs(v - V[s]))\n",
        "            if delta < 1e-6:\n",
        "                break\n",
        "\n",
        "        # Policy Improvement\n",
        "        is_policy_stable = True\n",
        "        for s in range(n_states):\n",
        "            old_action = policy[s]\n",
        "            action_values = []\n",
        "            for a in range(n_actions):\n",
        "                q = 0\n",
        "                for prob, next_state, reward, done in P[s][a]:\n",
        "                    q += prob * (reward + gamma * V[next_state] * (not done))\n",
        "                action_values.append(q)\n",
        "            best_action = np.argmax(action_values)\n",
        "            policy[s] = best_action\n",
        "            if old_action != best_action:\n",
        "                is_policy_stable = False\n",
        "    return policy, V"
      ],
      "metadata": {
        "id": "9ti_tlxu4yBf"
      },
      "execution_count": 12,
      "outputs": []
    },
    {
      "cell_type": "code",
      "source": [
        "#Run Both Algorithms\n",
        "vi_policy, vi_value = value_iteration(P, n_states, n_actions, gamma)\n",
        "print(\"Value Iteration Policy:\", vi_policy)\n",
        "print(\"Value Iteration Value Function:\", vi_value)\n",
        "\n",
        "pi_policy, pi_value = policy_iteration(P, n_states, n_actions, gamma)\n",
        "print(\"Policy Iteration Policy:\", pi_policy)\n",
        "print(\"Policy Iteration Value Function:\", pi_value)\n"
      ],
      "metadata": {
        "colab": {
          "base_uri": "https://localhost:8080/"
        },
        "id": "tY0mTHHB4x-r",
        "outputId": "1f5f81af-2d20-430e-80ce-66ce48ddcbef"
      },
      "execution_count": 13,
      "outputs": [
        {
          "output_type": "stream",
          "name": "stdout",
          "text": [
            "Value Iteration Policy: [1 1 1 0]\n",
            "Value Iteration Value Function: [ 9. 10. 10.  0.]\n",
            "Policy Iteration Policy: [1 1 1 0]\n",
            "Policy Iteration Value Function: [ 9. 10. 10.  0.]\n"
          ]
        }
      ]
    },
    {
      "cell_type": "code",
      "source": [],
      "metadata": {
        "id": "TpoRfTjE4x7x"
      },
      "execution_count": null,
      "outputs": []
    },
    {
      "cell_type": "code",
      "source": [],
      "metadata": {
        "id": "g7IqwMh74x5M"
      },
      "execution_count": null,
      "outputs": []
    },
    {
      "cell_type": "code",
      "source": [],
      "metadata": {
        "id": "9o06RIgx4x2o"
      },
      "execution_count": null,
      "outputs": []
    },
    {
      "cell_type": "code",
      "source": [],
      "metadata": {
        "id": "HQNcOuaN4xz4"
      },
      "execution_count": null,
      "outputs": []
    },
    {
      "cell_type": "code",
      "source": [],
      "metadata": {
        "id": "5VdNfkWX4xxI"
      },
      "execution_count": null,
      "outputs": []
    },
    {
      "cell_type": "code",
      "source": [],
      "metadata": {
        "id": "pYhlFeg14xud"
      },
      "execution_count": null,
      "outputs": []
    },
    {
      "cell_type": "code",
      "execution_count": null,
      "metadata": {
        "id": "G9P7UMJr4uOt"
      },
      "outputs": [],
      "source": []
    }
  ]
}